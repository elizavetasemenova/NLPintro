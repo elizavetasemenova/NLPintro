{
 "cells": [
  {
   "cell_type": "markdown",
   "metadata": {
    "slideshow": {
     "slide_type": "slide"
    }
   },
   "source": [
    "## Part 2: Introduction to Neural Networks (Liza)."
   ]
  },
  {
   "cell_type": "markdown",
   "metadata": {
    "slideshow": {
     "slide_type": "slide"
    }
   },
   "source": [
    "### <span style=\"color:coral\">NumPy</span>\n",
    "\n",
    "Neural Nets require a lot of matrix operations. NumPy allows to work with tensors efficiently. It is important for us to look at it now (also for better understanding of the popular tool -  TensorFlow)."
   ]
  },
  {
   "cell_type": "markdown",
   "metadata": {
    "slideshow": {
     "slide_type": "slide"
    }
   },
   "source": [
    "**Tensor** is a generalizaion of a matrix, same as a matrix is a generalization of a vector, and a vector is a generalization of a scalar.\n"
   ]
  },
  {
   "cell_type": "markdown",
   "metadata": {
    "slideshow": {
     "slide_type": "fragment"
    }
   },
   "source": [
    "#### Examples:\n",
    "\n",
    "Scalar is **0**-dimensional tensor:\n",
    "$$a = \\begin{pmatrix}a \\end{pmatrix}$$"
   ]
  },
  {
   "cell_type": "markdown",
   "metadata": {
    "slideshow": {
     "slide_type": "fragment"
    }
   },
   "source": [
    "Vector is **1**-dimensional tensor:\n",
    "$$v = \\begin{pmatrix}a \\\\ b \\end{pmatrix}$$"
   ]
  },
  {
   "cell_type": "markdown",
   "metadata": {
    "slideshow": {
     "slide_type": "fragment"
    }
   },
   "source": [
    "Matrix is **2**-dimensional tensor:\n",
    "$$m = \\begin{pmatrix}a & b\\\\\\ c & d\\end{pmatrix}$$"
   ]
  },
  {
   "cell_type": "markdown",
   "metadata": {
    "slideshow": {
     "slide_type": "slide"
    }
   },
   "source": [
    "Tensor is an **n**-dimensional numerical object.\n",
    "\n",
    "$$t = \\begin{pmatrix} \\begin{pmatrix}a & b\\\\\\ c & d\\end{pmatrix}, \\begin{pmatrix}e & f\\\\\\ g & h\\end{pmatrix}, \\begin{pmatrix}i & j\\\\\\ k & l\\end{pmatrix} \\end{pmatrix}$$\n"
   ]
  },
  {
   "cell_type": "markdown",
   "metadata": {
    "slideshow": {
     "slide_type": "slide"
    }
   },
   "source": [
    "#### Dimentionality\n",
    "is the number of indices which we need to know to extract one number out of a tensor:\n",
    "$$a=a$$\n",
    "\n",
    "$$a=v[1]$$\n",
    "\n",
    "$$a=m[1,1]$$"
   ]
  },
  {
   "cell_type": "markdown",
   "metadata": {
    "slideshow": {
     "slide_type": "slide"
    }
   },
   "source": [
    "In NumPy <span style=\"color:magenta\">ndarray</span> allows us to work with tensors:"
   ]
  },
  {
   "cell_type": "code",
   "execution_count": 2,
   "metadata": {
    "slideshow": {
     "slide_type": "fragment"
    }
   },
   "outputs": [
    {
     "name": "stdout",
     "output_type": "stream",
     "text": [
      "()\n",
      "(3,)\n",
      "(2, 3)\n",
      "(2, 2, 3)\n"
     ]
    }
   ],
   "source": [
    "import numpy as np\n",
    "a = np.array(1)\n",
    "v = np.array([1,2,3])\n",
    "m = np.array([[1,2,3], [4,5,6]])\n",
    "t = np.array([[[1,2,3],[4,5,6]],[[7,8,9],[10,11,12]]])\n",
    "print(a.shape)\n",
    "print(v.shape)\n",
    "print(m.shape)\n",
    "print(t.shape)\n"
   ]
  },
  {
   "cell_type": "markdown",
   "metadata": {
    "slideshow": {
     "slide_type": "slide"
    }
   },
   "source": [
    "#### NumPy data types \n",
    "\n",
    "are wider than that of Python. \n",
    "\n",
    "For instance, instead of **float** one can opt for **float16**, **float32**, **float64**.\n",
    "\n",
    "More details [here](https://docs.scipy.org/doc/numpy-1.13.0/user/basics.types.html)."
   ]
  },
  {
   "cell_type": "code",
   "execution_count": 3,
   "metadata": {
    "slideshow": {
     "slide_type": "fragment"
    }
   },
   "outputs": [
    {
     "data": {
      "text/plain": [
       "numpy.int64"
      ]
     },
     "execution_count": 3,
     "metadata": {},
     "output_type": "execute_result"
    }
   ],
   "source": [
    "type(v[0])"
   ]
  },
  {
   "cell_type": "markdown",
   "metadata": {
    "slideshow": {
     "slide_type": "slide"
    }
   },
   "source": [
    "#### Operations in NumPy\n",
    "\n",
    "- addition of a scalar"
   ]
  },
  {
   "cell_type": "code",
   "execution_count": 4,
   "metadata": {
    "slideshow": {
     "slide_type": "fragment"
    }
   },
   "outputs": [
    {
     "name": "stdout",
     "output_type": "stream",
     "text": [
      "[6 7 8]\n"
     ]
    }
   ],
   "source": [
    "v += 5\n",
    "print(v)"
   ]
  },
  {
   "cell_type": "markdown",
   "metadata": {
    "slideshow": {
     "slide_type": "fragment"
    }
   },
   "source": [
    "- multiplication by a scalar"
   ]
  },
  {
   "cell_type": "code",
   "execution_count": 5,
   "metadata": {
    "slideshow": {
     "slide_type": "fragment"
    }
   },
   "outputs": [
    {
     "name": "stdout",
     "output_type": "stream",
     "text": [
      "[[0 0 0]\n",
      " [0 0 0]]\n"
     ]
    }
   ],
   "source": [
    "m *=0\n",
    "print(m)"
   ]
  },
  {
   "cell_type": "markdown",
   "metadata": {
    "slideshow": {
     "slide_type": "fragment"
    }
   },
   "source": [
    "- dot product"
   ]
  },
  {
   "cell_type": "code",
   "execution_count": 6,
   "metadata": {
    "slideshow": {
     "slide_type": "fragment"
    }
   },
   "outputs": [
    {
     "name": "stdout",
     "output_type": "stream",
     "text": [
      "149\n"
     ]
    }
   ],
   "source": [
    "print(np.dot(v, v))"
   ]
  },
  {
   "cell_type": "markdown",
   "metadata": {
    "slideshow": {
     "slide_type": "slide"
    }
   },
   "source": [
    "When can the dot product of two vectors be useful for NLP? If there is a way to represent each text as a vector of a fixed length, we can measure the distance between two given texts/vectors, for instance, with cosine:\n",
    "$$\\cos(v1,v2)=\\frac{(v1,v2)}{\\vert v1 \\vert * \\vert v2\\vert} $$"
   ]
  },
  {
   "cell_type": "markdown",
   "metadata": {
    "slideshow": {
     "slide_type": "slide"
    }
   },
   "source": [
    "- matrix multiplication"
   ]
  },
  {
   "cell_type": "code",
   "execution_count": 8,
   "metadata": {
    "slideshow": {
     "slide_type": "fragment"
    }
   },
   "outputs": [
    {
     "name": "stdout",
     "output_type": "stream",
     "text": [
      "[[ 7 10]\n",
      " [15 22]]\n",
      "[[ 7 10]\n",
      " [15 22]]\n"
     ]
    }
   ],
   "source": [
    "m = np.array([[1,2], [3,4]])\n",
    "print(np.matmul(m, m))\n",
    "print(np.dot(m, m))"
   ]
  },
  {
   "cell_type": "markdown",
   "metadata": {
    "slideshow": {
     "slide_type": "slide"
    }
   },
   "source": [
    "- element-wise matrix multiplication"
   ]
  },
  {
   "cell_type": "code",
   "execution_count": 9,
   "metadata": {
    "slideshow": {
     "slide_type": "fragment"
    }
   },
   "outputs": [
    {
     "name": "stdout",
     "output_type": "stream",
     "text": [
      "[[ 1  4]\n",
      " [ 9 16]]\n",
      "[[ 1  4]\n",
      " [ 9 16]]\n"
     ]
    }
   ],
   "source": [
    "print(m*m)\n",
    "print(np.multiply(m, m))"
   ]
  },
  {
   "cell_type": "markdown",
   "metadata": {
    "slideshow": {
     "slide_type": "slide"
    }
   },
   "source": [
    "- matrix transpose"
   ]
  },
  {
   "cell_type": "code",
   "execution_count": 10,
   "metadata": {
    "slideshow": {
     "slide_type": "fragment"
    }
   },
   "outputs": [
    {
     "name": "stdout",
     "output_type": "stream",
     "text": [
      "[[1 3]\n",
      " [2 4]]\n"
     ]
    }
   ],
   "source": [
    "print(m.T)"
   ]
  },
  {
   "cell_type": "markdown",
   "metadata": {
    "slideshow": {
     "slide_type": "slide"
    }
   },
   "source": [
    "#### Documentation\n",
    "\n",
    "http://www.numpy.org/"
   ]
  },
  {
   "cell_type": "markdown",
   "metadata": {
    "slideshow": {
     "slide_type": "slide"
    }
   },
   "source": [
    "### <span style=\"color:coral\">Some Machine Learning concepts</span>\n",
    "   * Learning  = improving with experience at some task: \n",
    "     * improve at task T, \n",
    "     * with respect to performance measure P, \n",
    "     * based on experience E.\n"
   ]
  },
  {
   "cell_type": "markdown",
   "metadata": {
    "slideshow": {
     "slide_type": "slide"
    }
   },
   "source": [
    "   * Types of ML tasks:\n",
    "     * Supervised (labeled data)\n",
    "       * Classification (categorical data)\n",
    "       * Regression (continuous data)\n",
    "     * Unsupervised (not labeled data)\n",
    "       * Clustering"
   ]
  },
  {
   "cell_type": "markdown",
   "metadata": {
    "slideshow": {
     "slide_type": "slide"
    }
   },
   "source": [
    "   * Typical workflow: \n",
    "        * get and prepare data, \n",
    "        * training, \n",
    "        * validation, \n",
    "        * repeat training-validation.\n",
    "   * Loss function\n",
    "   * Regularization"
   ]
  },
  {
   "cell_type": "markdown",
   "metadata": {
    "slideshow": {
     "slide_type": "slide"
    }
   },
   "source": [
    "### <span style=\"color:coral\">Neural Networks and Deep Learning</span>\n",
    "\n",
    "**Neural networks** are great approxiamtors of non-linear functions. For instance they are able to find non-linear multidimentional boundaries in the context of classification."
   ]
  },
  {
   "cell_type": "markdown",
   "metadata": {
    "slideshow": {
     "slide_type": "slide"
    }
   },
   "source": [
    "The building block of a neural net is **perceptron**:\n",
    "\n",
    "![alt text](pics/perceptron.png)\n",
    "\n",
    "\n",
    "Here $x_1, ..., x_n$ are **input features**, $b$ is the **bias** and $W$ denotes the **weights**.\n",
    "\n",
    "The node is activated via an **activation function**, depending on the linear combinaton $x^{T}W+b:$\n",
    "$$ y=\\phi(x^{T}W+b).$$"
   ]
  },
  {
   "cell_type": "markdown",
   "metadata": {
    "slideshow": {
     "slide_type": "slide"
    }
   },
   "source": [
    "**Deep Learning** is the study of artificial neural networks containing more than one layer.\n",
    "\n",
    "Feedforward Neural Network performs static mapping from the inputs to the outpus via a given architechture and parameters (weights and biases). The task of a Neural Network is to find the best set of weights $W$ and biases $b$, given inputs $x$ and outputs $y$. We start with random weights and update them during the training process to minimize the loss function.\n",
    "\n",
    "![alt text](pics/large_net.png)"
   ]
  },
  {
   "cell_type": "markdown",
   "metadata": {
    "slideshow": {
     "slide_type": "slide"
    }
   },
   "source": [
    "Mathematical tools of Deep Learning:\n",
    "\n",
    "- Linear algebra [Cheatsheet](http://www.souravsengupta.com/cds2016/lectures/Savov_Notes.pdf)\n",
    "- Statistics [Cheatsheet](http://tutorial.math.lamar.edu/pdf/Calculus_Cheat_Sheet_All.pdf)\n",
    "- Calculus [Cheatsheet](http://web.mit.edu/~csvoss/Public/usabo/stats_handout.pdf)"
   ]
  },
  {
   "cell_type": "markdown",
   "metadata": {
    "slideshow": {
     "slide_type": "slide"
    }
   },
   "source": [
    "### Training\n",
    "\n",
    "Training consist of multiple repetitions of the cycle **Feedforward-Backpropagation**.\n",
    "\n",
    "![alt text](pics/cycle.png)\n"
   ]
  },
  {
   "cell_type": "markdown",
   "metadata": {
    "slideshow": {
     "slide_type": "slide"
    }
   },
   "source": [
    "Let us consider a basic Neural Net with one hidden layer, i.e. it consists of an input layer, a hidden layer and an output layer.\n",
    "\n",
    "![alt text](pics/feedforward.png)\n",
    "\n",
    "Each of the inputs $(x_1,....,x_{n_0})$ is connected to all of the neurons in the hidden layer $(h_1,..., h_{n_1})$ with corresponding weights $W^1_{ij}$, and each of the hidden layers $(h_1,..., h_{n_1})$ is connected to the output $y$ with weights $W^2_{i1}$. Each of the layers has their activation function:\n",
    "\n",
    "$$h=\\Phi(x, W^1),$$\n",
    "$$y=\\Phi(h, W^2).$$"
   ]
  },
  {
   "cell_type": "markdown",
   "metadata": {
    "slideshow": {
     "slide_type": "slide"
    }
   },
   "source": [
    "### Feedforward\n",
    "\n",
    "In the **Feedforward** stage we compute forward (left to right) and obtain the output of the system with the current values of parameters. It will be compared to the true ouptput, resulting in an error:\n",
    "\n",
    "![alt text](pics/feedforward.png)\n",
    "\n",
    "$$h=\\phi(x, W^1);$$\n",
    "\n",
    "$$y=\\phi(h, W^2).$$"
   ]
  },
  {
   "cell_type": "markdown",
   "metadata": {
    "slideshow": {
     "slide_type": "slide"
    }
   },
   "source": [
    "To compute the hidden layer we first perform the linear transformation of the input layer and then apply the activation function\n",
    "\n",
    "$$ (h^{\\text{lin}}_1,..., h^{\\text{lin}}_{n_1}) = (x_1,...,x_{n_0}) \\begin{pmatrix}W^1_{1,1} & W^1_{1,2} & ... & W^1_{1,n_1}\\\\\\ W^1_{2,1} & W^1_{2,2} & ... & W^1_{2,n_1} \\\\\\ ... & ... & ... & ...\\\\\\ W^1_{n_0,1} & W^1_{n_0,2} &... & W^1_{n_0,n_1}\\end{pmatrix},$$\n",
    "\n",
    "$$h = \\phi(h^{\\text{lin}}). $$"
   ]
  },
  {
   "cell_type": "markdown",
   "metadata": {
    "slideshow": {
     "slide_type": "fragment"
    }
   },
   "source": [
    "Analogously,\n",
    "$$ (y^{\\text{lin}}_1,..., y^{\\text{lin}}_{n_2}) = (h_1,...,h_{n_1}) \\begin{pmatrix}W^1_{1,1} & W^1_{1,2} & ... & W^1_{1,n_2}\\\\\\ W^1_{2,1} & W^1_{2,2} & ... & W^1_{2,n_2} \\\\\\ ... & ... & ... & ...\\\\\\ W^1_{n_1,1} & W^1_{n_1,2} &... & W^1_{n_1,n_2}\\end{pmatrix}$$\n",
    "\n",
    "and\n",
    "\n",
    "$$y = \\phi(y^{\\text{lin}}). $$"
   ]
  },
  {
   "cell_type": "markdown",
   "metadata": {
    "slideshow": {
     "slide_type": "slide"
    }
   },
   "source": [
    "### Activation functions for hidden layers\n",
    "\n",
    "- Sigmoid\n",
    "\n",
    "$$\\phi(x) = \\frac{1}{1 + \\exp(-x)}$$\n"
   ]
  },
  {
   "cell_type": "code",
   "execution_count": 15,
   "metadata": {
    "slideshow": {
     "slide_type": "slide"
    }
   },
   "outputs": [],
   "source": [
    "import matplotlib.pyplot as plt\n",
    "def line_graph(x, y, x_title, y_title):\n",
    "    plt.plot(x, y)\n",
    "    plt.xlabel(x_title)\n",
    "    plt.ylabel(y_title)\n",
    "    plt.show()"
   ]
  },
  {
   "cell_type": "code",
   "execution_count": 16,
   "metadata": {
    "slideshow": {
     "slide_type": "fragment"
    }
   },
   "outputs": [
    {
     "data": {
      "image/png": "[encoded data removed]",
      "text/plain": [
       "<matplotlib.figure.Figure at 0x11c985160>"
      ]
     },
     "metadata": {},
     "output_type": "display_data"
    }
   ],
   "source": [
    "import numpy as np\n",
    "x = range(-5, 5)\n",
    "\n",
    "def sigmoid(inputs):\n",
    "    return [1 / float(1 + np.exp(- x)) for x in inputs]\n",
    "     \n",
    "y_sigmoid = sigmoid(x)\n",
    "line_graph(x, y_sigmoid, \"x\", \"sigmoid(x)\")"
   ]
  },
  {
   "cell_type": "markdown",
   "metadata": {
    "slideshow": {
     "slide_type": "slide"
    }
   },
   "source": [
    "- Hyperbolic tangent\n",
    "\n",
    "$$\\phi(x) = \\tanh(x)$$"
   ]
  },
  {
   "cell_type": "code",
   "execution_count": 17,
   "metadata": {
    "slideshow": {
     "slide_type": "fragment"
    }
   },
   "outputs": [
    {
     "data": {
      "image/png": "[encoded data removed]",
      "text/plain": [
       "<matplotlib.figure.Figure at 0x113a31908>"
      ]
     },
     "metadata": {},
     "output_type": "display_data"
    }
   ],
   "source": [
    "def tanh(inputs):\n",
    "    values = [ np.tanh(x) for x in inputs]\n",
    "    return values\n",
    "\n",
    "y_tanh = tanh(x)\n",
    "line_graph(x, y_tanh, \"x\", \"tanh(x)\")"
   ]
  },
  {
   "cell_type": "markdown",
   "metadata": {
    "slideshow": {
     "slide_type": "slide"
    }
   },
   "source": [
    "- Rectified Linear Unit fuction (ReLU)\n",
    "\n",
    "$$\\phi(x) = x I_{x \\ge 0}$$"
   ]
  },
  {
   "cell_type": "code",
   "execution_count": 18,
   "metadata": {
    "slideshow": {
     "slide_type": "fragment"
    }
   },
   "outputs": [
    {
     "data": {
      "image/png": "[encoded data removed]",
      "text/plain": [
       "<matplotlib.figure.Figure at 0x11c955f28>"
      ]
     },
     "metadata": {},
     "output_type": "display_data"
    }
   ],
   "source": [
    "def ReLU(inputs):    \n",
    "    values = [x if x>0 else 0 for x in inputs]\n",
    "    return values\n",
    "\n",
    "y_relu = ReLU(x)\n",
    "line_graph(x, y_relu, \"x\", \"tanh(x)\")"
   ]
  },
  {
   "cell_type": "markdown",
   "metadata": {
    "slideshow": {
     "slide_type": "slide"
    }
   },
   "source": [
    "### Activation functions for the output layer\n",
    "\n",
    "- Sigmoid\n",
    "\n",
    "$$\\phi(x) = \\frac{1}{1 + \\exp(-x)}$$\n",
    "\n",
    "- Softmax\n",
    "\n",
    "$$\\phi(x)_k = \\frac{\\exp(- x_k)}{\\sum_{i=1}^K \\exp(-x_i)}$$\n",
    "\n",
    "- Linear\n",
    "\n",
    "$$\\phi(x) = x$$"
   ]
  },
  {
   "cell_type": "code",
   "execution_count": 20,
   "metadata": {
    "slideshow": {
     "slide_type": "slide"
    }
   },
   "outputs": [
    {
     "data": {
      "text/plain": [
       "array([ 0.2312239 ,  0.14024438,  0.62853172])"
      ]
     },
     "execution_count": 20,
     "metadata": {},
     "output_type": "execute_result"
    }
   ],
   "source": [
    "def softmax(inputs):\n",
    "    exp_inputs = np.exp(inputs)\n",
    "    out = np.divide (exp_inputs, exp_inputs.sum())\n",
    "    return out\n",
    "\n",
    "softmax([1, 0.5, 2])"
   ]
  },
  {
   "cell_type": "markdown",
   "metadata": {
    "slideshow": {
     "slide_type": "slide"
    }
   },
   "source": [
    "### Error functions\n",
    "\n",
    "-  Mean Squared Error (MSE), for regression \n",
    "\n",
    "$$ E = \\frac{1}{n}\\sum_{i=1}^n (y_i - \\hat{y}_i)^2$$"
   ]
  },
  {
   "cell_type": "code",
   "execution_count": 21,
   "metadata": {
    "slideshow": {
     "slide_type": "fragment"
    }
   },
   "outputs": [
    {
     "data": {
      "text/plain": [
       "0.44"
      ]
     },
     "execution_count": 21,
     "metadata": {},
     "output_type": "execute_result"
    }
   ],
   "source": [
    "def mse(y, yhat):\n",
    "    y = np.array(y)\n",
    "    yhat = np.array(yhat)\n",
    "    out = np.sum((y-yhat)**2)/len(y)\n",
    "    return out\n",
    "\n",
    "y=[1,0,1,1]\n",
    "yhat=[0.4,0.6,0.1,0.5]\n",
    "round(mse(y, yhat),2)"
   ]
  },
  {
   "cell_type": "markdown",
   "metadata": {
    "slideshow": {
     "slide_type": "slide"
    }
   },
   "source": [
    "-  Cross-entropy, for classification\n",
    "\n",
    "$$ E = - \\frac{1}{n}\\sum_{i=1}^n  \\left( y_i \\log(\\hat{p}_i) + (1- y_i) \\log(1-\\hat{p}_i) \\right)$$"
   ]
  },
  {
   "cell_type": "code",
   "execution_count": 22,
   "metadata": {
    "slideshow": {
     "slide_type": "fragment"
    }
   },
   "outputs": [
    {
     "name": "stdout",
     "output_type": "stream",
     "text": [
      "4.83\n"
     ]
    }
   ],
   "source": [
    "def cross_entropy(y, p):\n",
    "    y = np.array(y)\n",
    "    p = np.array(p)\n",
    "    out = - (np.dot(y, np.log(p)) + np.dot(1-y, np.log(1-p)))\n",
    "    return out\n",
    "\n",
    "y=[1,0,1,1]\n",
    "p=[0.4,0.6,0.1,0.5]\n",
    "print(round(cross_entropy(y, p),2))"
   ]
  },
  {
   "cell_type": "markdown",
   "metadata": {
    "slideshow": {
     "slide_type": "slide"
    }
   },
   "source": [
    "### Backpropagation\n",
    "\n",
    "During **Backpropagation** we compute backwards (right to left) and update the weights to minimize the error.\n",
    "\n",
    "![alt text](pics/backprop.png)"
   ]
  },
  {
   "cell_type": "markdown",
   "metadata": {
    "slideshow": {
     "slide_type": "slide"
    }
   },
   "source": [
    "### Gradient Descent\n",
    "\n",
    "Generally, **gradient** of a function $E(x_1,...,x_n)$\n",
    "\n",
    "$$\\nabla_{(x_1,...,x_n)} E =  \\begin{pmatrix} \\frac{\\partial E}{\\partial x_1} \\\\ ... \\\\ \\frac{\\partial E}{\\partial x_n} \\end{pmatrix}$$\n",
    "\n",
    "is a vector in the direction of the fastest growth of a function. Since our aim is to minimize the error, we are interested to find $- \\nabla E$: it indicates in which direction the function decreases the most.\n",
    "\n",
    "It follows, that a good way to update the weights is\n",
    "\n",
    "$$ W^{new} = W^{old} + \\nabla_W (-E).$$\n",
    "\n",
    "Anyhow, if the size of the step $\\nabla_W (-E)$ is too small or too large, it may take too long to find the minimum, we may get stuck in a local minimum or overshoot. To adjust, a **learning rate** $\\alpha$ is introduced."
   ]
  },
  {
   "cell_type": "markdown",
   "metadata": {
    "slideshow": {
     "slide_type": "slide"
    }
   },
   "source": [
    "### Weights update\n",
    "\n",
    "$$ W^{new} = W^{old} + \\alpha \\nabla_W (-E),$$\n",
    "\n",
    "where $\\alpha$ is the learning rate, i.e. the step size and $\\nabla_W E$ denotes the gradient of the error function with repect to the parameters $W$. This can be also written as\n",
    "\n",
    "$$ W^{new}_{ij} = W^{old}_{ij} + \\alpha \\left( -\\frac{\\partial E}{\\partial W_{ij}} \\right).$$"
   ]
  },
  {
   "cell_type": "markdown",
   "metadata": {
    "slideshow": {
     "slide_type": "slide"
    }
   },
   "source": [
    "It is not uncommon to use the notation\n",
    "$$\\delta_{ij} = \\frac{\\partial y}{\\partial W_{i,j}}.$$\n",
    "\n",
    "Then\n",
    "$$\\frac{\\partial E}{\\partial W_{ij}} = \\frac{\\partial E}{\\partial y} \\frac{\\partial y}{\\partial W_{ij}} = \\delta_{ij} \\frac{\\partial E}{\\partial y}.$$\n",
    "\n",
    "Applying the chain rule\n",
    "\n",
    "$$\\delta_{ij} = \\frac{\\partial y}{\\partial W_{ij}} = \\sum_{k=1}^{n} \\frac{\\partial \\Phi}{\\partial h_k} \\frac{\\partial h_k}{\\partial W_{ij}},$$\n",
    "\n",
    "i.e. we need to sum over all paths between $W_{ij}$ and $y$."
   ]
  },
  {
   "cell_type": "markdown",
   "metadata": {
    "slideshow": {
     "slide_type": "slide"
    }
   },
   "source": [
    "### Useful derivatives\n",
    "\n",
    "- Sigmoid\n",
    "\n",
    "$$\\sigma'(x) = \\frac{\\partial}{\\partial x} \\frac{1}{1 + \\exp(-x)} = \\frac{\\exp(-x)}{(1 + \\exp(-x))^2} = \\sigma(x) \\left(1- \\sigma'(x) \\right).$$\n",
    "\n",
    "- Hyperbolic tangent\n",
    "\n",
    "$$\\tanh'(x) = 1 -\\tanh^2(x).$$\n",
    "\n",
    "- Rectified Linear Unit\n",
    "\n",
    "$$\\text{ReLU}'(x) = I_{x \\ge 0}$$"
   ]
  },
  {
   "cell_type": "markdown",
   "metadata": {
    "slideshow": {
     "slide_type": "slide"
    }
   },
   "source": [
    "### Calculations for perceptron\n",
    "\n",
    "Now, when we understand the general workflow, let us construct the training algorithm for one perceptron with sigmoid activation function (performing logistic regression).\n",
    "\n",
    "![alt text](pics/perceptron.png)"
   ]
  },
  {
   "cell_type": "markdown",
   "metadata": {
    "slideshow": {
     "slide_type": "slide"
    }
   },
   "source": [
    "The goal is to minimize the error function, which is the mean point-wise error over $m$ training inputs\n",
    "\n",
    "$$E = \\frac{1}{m} \\sum E_k,$$\n",
    "$$E_k = - (y_k \\ln(\\hat{p_k}) + (1-y_k) \\ln(1- \\hat{p_k})).$$\n",
    "\n",
    "The predicted probabilities are evaluated via the activation function \n",
    "$$\\hat{p_k} = \\sigma(x_k^T W + b).$$\n",
    "\n",
    "Let us drop the index for now and perform computations for one observation\n",
    "\n",
    "$$E = - (y \\ln(\\hat{p}) + (1-y) \\ln(1- \\hat{p})).$$\n",
    "\n",
    "We need to find $\\frac{\\partial E}{\\partial W_i}$ (here denote $W_{i1}$ as $W_i$ and consider $\\frac{\\partial E}{\\partial b}$ be the particular case of $\\frac{\\partial E}{\\partial W_i}$). \n"
   ]
  },
  {
   "cell_type": "markdown",
   "metadata": {
    "slideshow": {
     "slide_type": "slide"
    }
   },
   "source": [
    "Beforehand, compute \n",
    "$$  \\frac{\\partial \\hat{p}}{\\partial W_i} = \\frac{\\partial}{\\partial W_i}\\sigma(x^T W + b) = \\hat{p} (1-\\hat{p}) x_i. $$\n",
    "\n",
    "Then\n",
    "$$\n",
    "\\begin{aligned}\n",
    "  \\frac{\\partial E}{\\partial W_i} &=  - \\left(y \\frac{\\partial}{\\partial W_i} \\ln(\\hat{p}) + (1-y) \\frac{\\partial}   {\\partial W_i} \\ln(1- \\hat{p}) \\right) \\\\\n",
    "  &= - \\left(y \\frac{1}{\\hat{p}} \\frac{\\partial \\hat{p}}{\\partial W_i} + (1-y) \\frac{1}{1-\\hat{p}} \\frac{\\partial (-\\hat{p})}   {\\partial W_i}  \\right) = \\text{(substitute from above)} \\\\\n",
    "  &= - (y - \\hat{p}) x_i,\n",
    " \\end{aligned}\n",
    "$$\n",
    "and it follows, in particular,\n",
    "$$\n",
    "\\frac{\\partial E}{\\partial b} = - (y - \\hat{p}).\n",
    "$$"
   ]
  },
  {
   "cell_type": "markdown",
   "metadata": {
    "slideshow": {
     "slide_type": "slide"
    }
   },
   "source": [
    "#### Logistic regression training algorithm\n",
    "- initialize randomly weights $W$ and bias $b$\n",
    "- repeat until the error is small:\n",
    "  - compute prediction $\\hat{p}_i$ for each training input $x_i$,\n",
    "  - update weights and bias.\n"
   ]
  },
  {
   "cell_type": "markdown",
   "metadata": {
    "slideshow": {
     "slide_type": "slide"
    }
   },
   "source": [
    "### Perceptron implementation"
   ]
  },
  {
   "cell_type": "code",
   "execution_count": 14,
   "metadata": {
    "slideshow": {
     "slide_type": "fragment"
    }
   },
   "outputs": [],
   "source": [
    "# useful functions\n",
    "def sigmoid(x):\n",
    "    return 1 / (1 + np.exp(-x))"
   ]
  },
  {
   "cell_type": "code",
   "execution_count": 15,
   "metadata": {
    "slideshow": {
     "slide_type": "slide"
    }
   },
   "outputs": [],
   "source": [
    "# Generate data:\n",
    "# assume the line W1*x1+W*x2 separates the two regions: {y=1}, {y=0}\n",
    "# b = 0\n",
    "\n",
    "import numpy as np\n",
    "\n",
    "#number of features\n",
    "n_features = 2\n",
    "n_classes = 1\n",
    "\n",
    "#number of observations\n",
    "m = 100\n",
    "\n",
    "# generate features\n",
    "Xsim = np.random.normal(0, 10, size=(m,n_features))\n",
    "\n",
    "# set the values of true parameters\n",
    "W_true = np.array([1.0, 3.0])\n",
    "W_true.shape = (n_features,n_classes)\n",
    "\n",
    "# fill the lables\n",
    "ysim = np.zeros(shape=(m,n_classes))\n",
    "for i in range(m):\n",
    "    if sigmoid(np.dot(Xsim[i,:], W_true))>0.5:\n",
    "        ysim[i] = 1"
   ]
  },
  {
   "cell_type": "code",
   "execution_count": 16,
   "metadata": {
    "slideshow": {
     "slide_type": "slide"
    }
   },
   "outputs": [
    {
     "data": {
      "text/plain": [
       "[<matplotlib.lines.Line2D at 0x121aa3f60>,\n",
       " <matplotlib.lines.Line2D at 0x121ab31d0>]"
      ]
     },
     "execution_count": 16,
     "metadata": {},
     "output_type": "execute_result"
    },
    {
     "data": {
      "image/png": "[encoded data removed]",
      "text/plain": [
       "<matplotlib.figure.Figure at 0x121a80630>"
      ]
     },
     "metadata": {},
     "output_type": "display_data"
    }
   ],
   "source": [
    "# plot\n",
    "Xred = Xsim[np.argwhere(ysim==1),:]\n",
    "Xblue = Xsim[np.argwhere(ysim==0),:]\n",
    "plt.plot(Xred[:,0,0], Xred[:,0,1], 'ro', Xblue[:,0,0], Xblue[:,0,1], 'bs')\n",
    "\n",
    "# TO DO: increase the number of observations and observe the changes on the plot. \n",
    "# How will the number of observations impact the predictions?"
   ]
  },
  {
   "cell_type": "code",
   "execution_count": 17,
   "metadata": {
    "slideshow": {
     "slide_type": "fragment"
    }
   },
   "outputs": [],
   "source": [
    "def compute_probs(X, W):\n",
    "    return sigmoid(np.dot(X, W))"
   ]
  },
  {
   "cell_type": "code",
   "execution_count": 18,
   "metadata": {
    "slideshow": {
     "slide_type": "slide"
    }
   },
   "outputs": [],
   "source": [
    "# training hyperparameters\n",
    "epochs = 100\n",
    "learning_rate = 0.001\n",
    "\n",
    "# initialize weights and bias\n",
    "W = np.random.normal(0, 1, size=W_true.shape)"
   ]
  },
  {
   "cell_type": "code",
   "execution_count": 19,
   "metadata": {
    "slideshow": {
     "slide_type": "slide"
    }
   },
   "outputs": [
    {
     "name": "stdout",
     "output_type": "stream",
     "text": [
      "epoch:  10,  W[0]: 0.194064,  W[1]: 0.543439\n",
      "epoch:  20,  W[0]: 0.246185,  W[1]: 0.689785\n",
      "epoch:  30,  W[0]: 0.280701,  W[1]: 0.789630\n",
      "epoch:  40,  W[0]: 0.306962,  W[1]: 0.867437\n",
      "epoch:  50,  W[0]: 0.328356,  W[1]: 0.932064\n",
      "epoch:  60,  W[0]: 0.346525,  W[1]: 0.987826\n",
      "epoch:  70,  W[0]: 0.362396,  W[1]: 1.037175\n",
      "epoch:  80,  W[0]: 0.376543,  W[1]: 1.081649\n",
      "epoch:  90,  W[0]: 0.389350,  W[1]: 1.122277\n",
      "epoch: 100,  W[0]: 0.401086,  W[1]: 1.159787\n"
     ]
    }
   ],
   "source": [
    "# train\n",
    "for epoch in range(epochs):\n",
    "    probs = compute_probs(Xsim, W)\n",
    "    d_error = -(ysim - probs)\n",
    "    W -= learning_rate * np.dot(Xsim.T, d_error)\n",
    "    #b -= learning_rate * d_error\n",
    "    \n",
    "    # print every 10 epochs\n",
    "    if (epoch + 1) % 10 == 0:\n",
    "        print('epoch:{:4d},  W[0]: {:5f},  W[1]: {:5f}'.format(epoch + 1, float(W[0]), float(W[1])))"
   ]
  },
  {
   "cell_type": "code",
   "execution_count": 20,
   "metadata": {
    "slideshow": {
     "slide_type": "slide"
    }
   },
   "outputs": [],
   "source": [
    "# TO DO:\n",
    "# Change the number of epochs and the learning rate and observe what happens to the output.\n",
    "# Ideally we want to see, that the values converge to W_true.\n",
    "# Hint: without changing the learning rate, try epochs = 1000.\n",
    "\n",
    "# TO DO AT HOME:\n",
    "# adjust the code to account for bias\n",
    "\n",
    "# TO DO AT HOME:\n",
    "# implement perceptron as class"
   ]
  },
  {
   "cell_type": "markdown",
   "metadata": {
    "slideshow": {
     "slide_type": "skip"
    }
   },
   "source": [
    "### Batching\n",
    "\n",
    "Previously we assumed that weights are updated after each calculation of the output. The updates can be made every $N$ steps. Then $N$ is called the batch-size.\n",
    "\n",
    "$$\\delta = \\frac{1}{N} \\sum \\delta_{ij}.$$\n",
    "\n",
    "As the result, we will perform less computations to save time and average the noise out to improve convergence."
   ]
  },
  {
   "cell_type": "markdown",
   "metadata": {
    "slideshow": {
     "slide_type": "slide"
    }
   },
   "source": [
    "### Dropout\n",
    "\n",
    "Dropout is a regularization method.\n",
    "\n",
    "If one part of a neural network has very large weights, it will dominate the training proces. As a solution, some nodes are being switched off randomly with a probability of the dropout for one training epoch."
   ]
  },
  {
   "cell_type": "markdown",
   "metadata": {
    "slideshow": {
     "slide_type": "slide"
    }
   },
   "source": [
    "Once we understood how DL works, there is no need to code up everything by hand, but use existing frameworks instead."
   ]
  },
  {
   "cell_type": "markdown",
   "metadata": {
    "slideshow": {
     "slide_type": "slide"
    }
   },
   "source": [
    "**Tensorflow**: a low level framework, we need to operate on the linear algebra level. \n",
    "\n",
    "A simple example: https://github.com/elizavetasemenova/amld-2018/blob/master/afternoon/ses3/Liza_afternoon.ipynb\n",
    "\n",
    "\n",
    "**Keras** is a high level framework and allows to simply define the layers. Keras wraps TensorFlow and uses it as an execution backened."
   ]
  },
  {
   "cell_type": "markdown",
   "metadata": {
    "slideshow": {
     "slide_type": "slide"
    }
   },
   "source": [
    "Choices to make for the architechture and the values of hyperparameters:\n",
    "    * number of layers\n",
    "    * sizes of the layers\n",
    "    * number of epochs\n",
    "    * batch size\n",
    "    * Activation function (sigmoid, relu, tanh, softmax)\n",
    "    * Loss function (binary_crossentropy, categorical_crossentropy, mean_squared_error)\n",
    "    * Optimizer (rmsprop, adam, ada)\n",
    "    * Dropout probability"
   ]
  },
  {
   "cell_type": "code",
   "execution_count": 21,
   "metadata": {
    "slideshow": {
     "slide_type": "slide"
    }
   },
   "outputs": [],
   "source": [
    "# generate the data\n",
    "\n",
    "import numpy as np\n",
    "\n",
    "#number of features\n",
    "n_input = 2\n",
    "n_classes = 1\n",
    "\n",
    "#number of observations\n",
    "m = 5000\n",
    "\n",
    "# generate features\n",
    "Xsim = np.random.normal(0, 10, size=(m, n_input))\n",
    "\n",
    "# set the values of trrue parameters\n",
    "W_true = np.array([1.0, 3.0])\n",
    "#b_true = -1\n",
    "\n",
    "# fill the true lables\n",
    "ysim = np.zeros(shape=(m,n_classes))\n",
    "\n",
    "s = np.dot(Xsim[1,:], W_true)\n",
    "for i in range(m):\n",
    "    if Xsim[i,0]**3/15 + Xsim[i,0]**2 -1 > Xsim[i,1]: # y = x^3/15 + x^2 - 1\n",
    "        ysim[i] = 1"
   ]
  },
  {
   "cell_type": "code",
   "execution_count": 22,
   "metadata": {
    "slideshow": {
     "slide_type": "slide"
    }
   },
   "outputs": [
    {
     "data": {
      "text/plain": [
       "[<matplotlib.lines.Line2D at 0x121b73160>,\n",
       " <matplotlib.lines.Line2D at 0x121b732e8>]"
      ]
     },
     "execution_count": 22,
     "metadata": {},
     "output_type": "execute_result"
    },
    {
     "data": {
      "image/png": "[encoded data removed]",
      "text/plain": [
       "<matplotlib.figure.Figure at 0x121ae6a20>"
      ]
     },
     "metadata": {},
     "output_type": "display_data"
    }
   ],
   "source": [
    "# plot\n",
    "import matplotlib.pyplot as plt\n",
    "Xred = Xsim[np.argwhere(ysim==1),:]\n",
    "Xblue = Xsim[np.argwhere(ysim==0),:]\n",
    "plt.plot(Xred[:,0,0], Xred[:,0,1], 'ro', Xblue[:,0,0], Xblue[:,0,1], 'bs')"
   ]
  },
  {
   "cell_type": "code",
   "execution_count": 23,
   "metadata": {
    "slideshow": {
     "slide_type": "slide"
    }
   },
   "outputs": [
    {
     "name": "stdout",
     "output_type": "stream",
     "text": [
      "4000\n",
      "(4000, 2)\n",
      "(1000, 2)\n",
      "(4000, 1)\n",
      "(1000, 1)\n"
     ]
    }
   ],
   "source": [
    "# split X and y into train and test as 80% to 20%\n",
    "train_portion = 0.8\n",
    "train_m = round(m* train_portion)\n",
    "print(train_m)\n",
    "Xtrain = Xsim[0:train_m,]\n",
    "Xtest = Xsim[train_m:,]\n",
    "ytrain = ysim[0:train_m]\n",
    "ytest = ysim[train_m:]\n",
    "\n",
    "# check the shapes\n",
    "print(Xtrain.shape)\n",
    "print(Xtest.shape)\n",
    "print(ytrain.shape)\n",
    "print(ytest.shape)"
   ]
  },
  {
   "cell_type": "code",
   "execution_count": 24,
   "metadata": {
    "slideshow": {
     "slide_type": "slide"
    }
   },
   "outputs": [
    {
     "data": {
      "text/plain": [
       "[<matplotlib.lines.Line2D at 0x121be2748>]"
      ]
     },
     "execution_count": 24,
     "metadata": {},
     "output_type": "execute_result"
    },
    {
     "data": {
      "image/png": "[encoded data removed]",
      "text/plain": [
       "<matplotlib.figure.Figure at 0x121b004e0>"
      ]
     },
     "metadata": {},
     "output_type": "display_data"
    }
   ],
   "source": [
    "# plot again to see which points were picked as training- na test-examples\n",
    "Xred = Xtrain[np.argwhere(ytrain==1),:]\n",
    "Xorange = Xtest[np.argwhere(ytest==1),:]\n",
    "Xblue = Xtrain[np.argwhere(ytrain==0),:]\n",
    "Xgreen = Xtest[np.argwhere(ytest==0),:]\n",
    "plt.plot(Xred[:,0,0], Xred[:,0,1],  'ro')\n",
    "plt.plot(Xorange[:,0,0], Xorange[:,0,1],  'go')\n",
    "plt.plot(Xorange[:,0,0], Xorange[:,0,1],  'yo')\n",
    "plt.plot(Xblue[:,0,0], Xblue[:,0,1],  'bs')\n",
    "plt.plot(Xgreen[:,0,0], Xgreen[:,0,1],  'gs')"
   ]
  },
  {
   "cell_type": "code",
   "execution_count": 25,
   "metadata": {
    "slideshow": {
     "slide_type": "slide"
    }
   },
   "outputs": [],
   "source": [
    "from keras.models import Sequential\n",
    "model = Sequential()"
   ]
  },
  {
   "cell_type": "code",
   "execution_count": 26,
   "metadata": {
    "slideshow": {
     "slide_type": "slide"
    }
   },
   "outputs": [],
   "source": [
    "# Create the Sequential model\n",
    "\n",
    "# model = Sequential()\n",
    "\n",
    "# 1st Layer - a layer with the same input shape as the training examples in X\n",
    "# creates nodes which each expect to receive 2-element vectors as inputs.\n",
    "#model.add(Dense(3, input_dim=X.shape[1]))\n",
    "\n",
    "# Add a softmax activation layer\n",
    "#model.add(Activation('softmax'))\n",
    "\n",
    "# 2nd Layer - Add a fully connected output layer\n",
    "# model.add(Dense(1))\n",
    "\n",
    "# Add a sigmoid activation layer\n",
    "# model.add(Activation('sigmoid'))"
   ]
  },
  {
   "cell_type": "code",
   "execution_count": 27,
   "metadata": {
    "slideshow": {
     "slide_type": "slide"
    }
   },
   "outputs": [],
   "source": [
    "import numpy as np\n",
    "from keras.models import Sequential\n",
    "from keras.layers.core import Dense, Activation, Dropout"
   ]
  },
  {
   "cell_type": "code",
   "execution_count": 28,
   "metadata": {
    "slideshow": {
     "slide_type": "slide"
    }
   },
   "outputs": [
    {
     "name": "stdout",
     "output_type": "stream",
     "text": [
      "_________________________________________________________________\n",
      "Layer (type)                 Output Shape              Param #   \n",
      "=================================================================\n",
      "dense_7 (Dense)              (None, 4)                 12        \n",
      "_________________________________________________________________\n",
      "activation_7 (Activation)    (None, 4)                 0         \n",
      "_________________________________________________________________\n",
      "dropout_3 (Dropout)          (None, 4)                 0         \n",
      "_________________________________________________________________\n",
      "dense_8 (Dense)              (None, 4)                 20        \n",
      "_________________________________________________________________\n",
      "activation_8 (Activation)    (None, 4)                 0         \n",
      "_________________________________________________________________\n",
      "dense_9 (Dense)              (None, 1)                 5         \n",
      "_________________________________________________________________\n",
      "activation_9 (Activation)    (None, 1)                 0         \n",
      "=================================================================\n",
      "Total params: 37\n",
      "Trainable params: 37\n",
      "Non-trainable params: 0\n",
      "_________________________________________________________________\n"
     ]
    }
   ],
   "source": [
    "n1 = 4 # size of the first hidden layer\n",
    "n2 = 4 # size of the second hidden layer\n",
    "dropout_prob = 0.1\n",
    "model = Sequential()\n",
    "model.add(Dense(n1, input_dim=n_input))\n",
    "model.add(Activation('sigmoid'))\n",
    "model.add(Dropout(dropout_prob))\n",
    "model.add(Dense(n2))\n",
    "model.add(Activation('sigmoid'))\n",
    "model.add(Dense(n_classes))\n",
    "model.add(Activation('sigmoid'))\n",
    "model.compile(loss = 'binary_crossentropy', optimizer='adam', metrics=['accuracy'])\n",
    "model.summary()"
   ]
  },
  {
   "cell_type": "markdown",
   "metadata": {
    "slideshow": {
     "slide_type": "slide"
    }
   },
   "source": [
    "The layers definitions can be also written in a more compact manner:"
   ]
  },
  {
   "cell_type": "code",
   "execution_count": 29,
   "metadata": {
    "slideshow": {
     "slide_type": "slide"
    }
   },
   "outputs": [],
   "source": [
    "# create model\n",
    "model = Sequential()\n",
    "model.add(Dense(n1, input_dim=n_features, activation='sigmoid'))\n",
    "model.add(Dense(n2, activation='sigmoid'))\n",
    "model.add(Dense(n_classes, activation='sigmoid'))"
   ]
  },
  {
   "cell_type": "code",
   "execution_count": 30,
   "metadata": {
    "slideshow": {
     "slide_type": "slide"
    }
   },
   "outputs": [],
   "source": [
    "# Compile model\n",
    "model.compile(loss='binary_crossentropy', optimizer='adam', metrics=['accuracy'])"
   ]
  },
  {
   "cell_type": "code",
   "execution_count": 31,
   "metadata": {
    "slideshow": {
     "slide_type": "slide"
    }
   },
   "outputs": [
    {
     "name": "stdout",
     "output_type": "stream",
     "text": [
      "Epoch 1/30\n",
      "4000/4000 [==============================] - 2s 424us/step - loss: 0.5024 - acc: 0.8185\n",
      "Epoch 2/30\n",
      "4000/4000 [==============================] - 1s 364us/step - loss: 0.4541 - acc: 0.8185\n",
      "Epoch 3/30\n",
      "4000/4000 [==============================] - 1s 375us/step - loss: 0.4181 - acc: 0.8185\n",
      "Epoch 4/30\n",
      "4000/4000 [==============================] - 2s 398us/step - loss: 0.3903 - acc: 0.8185\n",
      "Epoch 5/30\n",
      "4000/4000 [==============================] - 1s 350us/step - loss: 0.3659 - acc: 0.8185\n",
      "Epoch 6/30\n",
      "4000/4000 [==============================] - 1s 341us/step - loss: 0.3450 - acc: 0.8185\n",
      "Epoch 7/30\n",
      "4000/4000 [==============================] - 2s 408us/step - loss: 0.3272 - acc: 0.8217\n",
      "Epoch 8/30\n",
      "4000/4000 [==============================] - 2s 440us/step - loss: 0.3127 - acc: 0.8600\n",
      "Epoch 9/30\n",
      "4000/4000 [==============================] - 2s 395us/step - loss: 0.2999 - acc: 0.8767\n",
      "Epoch 10/30\n",
      "4000/4000 [==============================] - 2s 387us/step - loss: 0.2881 - acc: 0.8810\n",
      "Epoch 11/30\n",
      "4000/4000 [==============================] - 2s 390us/step - loss: 0.2772 - acc: 0.8880\n",
      "Epoch 12/30\n",
      "4000/4000 [==============================] - 2s 384us/step - loss: 0.2670 - acc: 0.8920\n",
      "Epoch 13/30\n",
      "4000/4000 [==============================] - 1s 374us/step - loss: 0.2578 - acc: 0.8940\n",
      "Epoch 14/30\n",
      "4000/4000 [==============================] - 2s 389us/step - loss: 0.2494 - acc: 0.8980\n",
      "Epoch 15/30\n",
      "4000/4000 [==============================] - 2s 415us/step - loss: 0.2422 - acc: 0.9005\n",
      "Epoch 16/30\n",
      "4000/4000 [==============================] - 2s 418us/step - loss: 0.2354 - acc: 0.9027\n",
      "Epoch 17/30\n",
      "4000/4000 [==============================] - 1s 370us/step - loss: 0.2286 - acc: 0.9050\n",
      "Epoch 18/30\n",
      "4000/4000 [==============================] - 1s 374us/step - loss: 0.2226 - acc: 0.9070\n",
      "Epoch 19/30\n",
      "4000/4000 [==============================] - 2s 377us/step - loss: 0.2162 - acc: 0.9090\n",
      "Epoch 20/30\n",
      "4000/4000 [==============================] - 1s 369us/step - loss: 0.2091 - acc: 0.9092\n",
      "Epoch 21/30\n",
      "4000/4000 [==============================] - 1s 370us/step - loss: 0.2001 - acc: 0.9097\n",
      "Epoch 22/30\n",
      "4000/4000 [==============================] - 2s 376us/step - loss: 0.1881 - acc: 0.9095\n",
      "Epoch 23/30\n",
      "4000/4000 [==============================] - 2s 384us/step - loss: 0.1756 - acc: 0.9115\n",
      "Epoch 24/30\n",
      "4000/4000 [==============================] - 2s 388us/step - loss: 0.1648 - acc: 0.9122\n",
      "Epoch 25/30\n",
      "4000/4000 [==============================] - 2s 375us/step - loss: 0.1552 - acc: 0.9232\n",
      "Epoch 26/30\n",
      "4000/4000 [==============================] - 2s 395us/step - loss: 0.1464 - acc: 0.9342\n",
      "Epoch 27/30\n",
      "4000/4000 [==============================] - 2s 415us/step - loss: 0.1384 - acc: 0.9392\n",
      "Epoch 28/30\n",
      "4000/4000 [==============================] - 2s 401us/step - loss: 0.1307 - acc: 0.9467\n",
      "Epoch 29/30\n",
      "4000/4000 [==============================] - 1s 299us/step - loss: 0.1240 - acc: 0.9517\n",
      "Epoch 30/30\n",
      "4000/4000 [==============================] - 1s 368us/step - loss: 0.1183 - acc: 0.9565\n"
     ]
    },
    {
     "data": {
      "text/plain": [
       "<keras.callbacks.History at 0x121ae60f0>"
      ]
     },
     "execution_count": 31,
     "metadata": {},
     "output_type": "execute_result"
    }
   ],
   "source": [
    "# Fit the model\n",
    "model.fit(Xtrain, ytrain, epochs=30, batch_size=10)"
   ]
  },
  {
   "cell_type": "code",
   "execution_count": 32,
   "metadata": {
    "slideshow": {
     "slide_type": "slide"
    }
   },
   "outputs": [
    {
     "name": "stdout",
     "output_type": "stream",
     "text": [
      "1000/1000 [==============================] - 0s 69us/step\n",
      "\n",
      "acc: 96.00%\n"
     ]
    }
   ],
   "source": [
    "# evaluate the model\n",
    "scores = model.evaluate(Xtest, ytest)\n",
    "print(\"\\n%s: %.2f%%\" % (model.metrics_names[1], scores[1]*100))"
   ]
  },
  {
   "cell_type": "markdown",
   "metadata": {
    "slideshow": {
     "slide_type": "slide"
    }
   },
   "source": [
    "Conclusion: occuracy tends to get better with deeper nets."
   ]
  },
  {
   "cell_type": "markdown",
   "metadata": {
    "slideshow": {
     "slide_type": "slide"
    }
   },
   "source": [
    "We are now one step away from training models on text data, for tasks such as, for instance, sentiment analysis. See an example [here:](https://www.liip.ch/en/blog/sentiment-detection-with-keras-word-embeddings-and-lstm-deep-learning-networks)\n",
    "\n",
    "\n",
    "<img src=\"pics/sentimentKeras.png\" alt=\"sentimentKeras\" style=\"width: 400px;\"/>"
   ]
  },
  {
   "cell_type": "code",
   "execution_count": null,
   "metadata": {},
   "outputs": [],
   "source": []
  }
 ],
 "metadata": {
  "celltoolbar": "Slideshow",
  "kernelspec": {
   "display_name": "Python [conda env:amld]",
   "language": "python",
   "name": "conda-env-amld-py"
  },
  "language_info": {
   "codemirror_mode": {
    "name": "ipython",
    "version": 3
   },
   "file_extension": ".py",
   "mimetype": "text/x-python",
   "name": "python",
   "nbconvert_exporter": "python",
   "pygments_lexer": "ipython3",
   "version": "3.6.4"
  }
 },
 "nbformat": 4,
 "nbformat_minor": 2
}
