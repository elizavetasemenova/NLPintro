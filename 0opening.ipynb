{
 "cells": [
  {
   "cell_type": "markdown",
   "metadata": {
    "slideshow": {
     "slide_type": "slide"
    }
   },
   "source": [
    " # NLP with Python (an Introduction).\n",
    " \n",
    " ### The 12th Natural Language Processing & Text Analytics Meetup.\n",
    "    \n",
    " In collaboration with women++.\n",
    "    \n",
    " 7th October 2018, Zurich."
   ]
  },
  {
   "cell_type": "markdown",
   "metadata": {
    "slideshow": {
     "slide_type": "slide"
    }
   },
   "source": [
    "### women++\n",
    "\n",
    "is a non-profit striving to increase diversity in tech.\n",
    "\n",
    "Web: https://www.womenplusplus.ch/\n",
    "\n",
    "Twitter: @womenplusplus"
   ]
  },
  {
   "cell_type": "markdown",
   "metadata": {
    "slideshow": {
     "slide_type": "slide"
    }
   },
   "source": [
    "![alt text](pics/wpp.png)\n",
    "\n",
    "## womenplusplus.ch"
   ]
  },
  {
   "cell_type": "markdown",
   "metadata": {
    "slideshow": {
     "slide_type": "slide"
    }
   },
   "source": [
    "Your **tutors** today: Liza and Maria.\n",
    "\n",
    "<img src=\"pics/LizaMaria.jpg\" alt=\"LizaMaria\" style=\"width: 200px;\"/>"
   ]
  },
  {
   "cell_type": "markdown",
   "metadata": {
    "slideshow": {
     "slide_type": "slide"
    }
   },
   "source": [
    " ### Maria han Veiga (aka Maria),\n",
    "\n",
    "**LinkedIn:**\n",
    "Maria han Veiga\n",
    "\n",
    "**Twitter:**\n",
    "@hanveiga\n",
    "\n",
    "**Email:**\n",
    "Han.veiga@gmail.com\n",
    "\n",
    "**Web:**\n",
    "modelsbottles.wordpress.com"
   ]
  },
  {
   "cell_type": "markdown",
   "metadata": {
    "slideshow": {
     "slide_type": "slide"
    }
   },
   "source": [
    "### Elizaveta Semenova (aka Liza),\n",
    "\n",
    "**LinkedIn:**\n",
    "Elizaveta Semenova\n",
    "\n",
    "**Twitter:**\n",
    "@liza_p_semenova\n",
    "\n",
    "**Email:**\n",
    "elizaveta.p.semenova@gmail.com\n",
    "    \n",
    "**Web:**\n",
    "elizavetasemenova.github.io"
   ]
  },
  {
   "cell_type": "markdown",
   "metadata": {
    "slideshow": {
     "slide_type": "slide"
    }
   },
   "source": [
    "## Plan\n",
    "\n",
    "1. Introduction to NLP (Maria)\n",
    "2. Introduction to Neural Networks (Liza)\n",
    "3. Wikileaks explorative analysis (Maria)\n",
    "4. NLP mini-projects (Liza)\n",
    "    \n",
    "and a lunch break in the middle."
   ]
  }
 ],
 "metadata": {
  "celltoolbar": "Slideshow",
  "kernelspec": {
   "display_name": "Python [conda env:amld]",
   "language": "python",
   "name": "conda-env-amld-py"
  },
  "language_info": {
   "codemirror_mode": {
    "name": "ipython",
    "version": 3
   },
   "file_extension": ".py",
   "mimetype": "text/x-python",
   "name": "python",
   "nbconvert_exporter": "python",
   "pygments_lexer": "ipython3",
   "version": "3.6.4"
  }
 },
 "nbformat": 4,
 "nbformat_minor": 2
}
